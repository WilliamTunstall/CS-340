{
  "metadata": {
    "kernelspec": {
      "name": "python",
      "display_name": "Python (Pyodide)",
      "language": "python"
    },
    "language_info": {
      "codemirror_mode": {
        "name": "python",
        "version": 3
      },
      "file_extension": ".py",
      "mimetype": "text/x-python",
      "name": "python",
      "nbconvert_exporter": "python",
      "pygments_lexer": "ipython3",
      "version": "3.8"
    }
  },
  "nbformat_minor": 4,
  "nbformat": 4,
  "cells": [
    {
      "cell_type": "code",
      "source": "from pymongo import MongoClient\nfrom bson.objectid import ObjectId\nfrom pprint import pprint\n\nclass AnimalShelter(object):\n\n    def __init__(self, username, password):\n\n        self.client = MongoClient('mongodb://%$:%$@localhost:31359/AAC' % (username, password))\n        self.database = self.client['AAC']\n        self.collection = self.database['animals']\n\n    #CREATE functionality in CRUD\n    def create(self, data):\n        if data is not None:\n            result = self.database.animals.insert(data) #data should be dictionary\n            if inster != 0:\n                return True\n            else:\n                return False\n        else:\n            raise Exception(\"Nothing to save, because data parameter is empty\")\n\n    #READ functionality in CRUD\n    def read(self, critera=None):\n        if criteria is not None:\n            data =self.database.animals.find(criteria,{\"_id\":False})\n            for documents in data:\n                print(document)\n        else:\n            data = self.database.animals.find{},{\"_id\":False})\n        return data\n\n    #UPDATE functionality in CRUD\n    def update (self, searchData, updateData):\n        if searchData is not None:\n            result = self.database.animals.update_many(searchData, {'$set':{updateData}})\n            return result.raw_result\n        else:\n            return \"{}\"\n        #will return data set else error\n        return result.raw_result\n\n    #DELETE functionality in CRUD\n    def delete(self, deleteData):\n        if deleteData is not None:\n            result = self.database.animals.delete_many(deleteData)\n        else:\n            return\"{}\"\n        #will return data set else error\n        return result.raw_result\n            ",
      "metadata": {
        "trusted": true
      },
      "outputs": [],
      "execution_count": null
    }
  ]
}